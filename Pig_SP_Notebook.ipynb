{
  "nbformat": 4,
  "nbformat_minor": 0,
  "metadata": {
    "colab": {
      "provenance": [],
      "authorship_tag": "ABX9TyNSDwBmj2Wccx2i+afLZ3cx",
      "include_colab_link": true
    },
    "kernelspec": {
      "name": "python3",
      "display_name": "Python 3"
    },
    "language_info": {
      "name": "python"
    }
  },
  "cells": [
    {
      "cell_type": "markdown",
      "metadata": {
        "id": "view-in-github",
        "colab_type": "text"
      },
      "source": [
        "<a href=\"https://colab.research.google.com/github/joackinsantos/Pig-Contact-Detection-Web-App/blob/dev/Pig_SP_Notebook.ipynb\" target=\"_parent\"><img src=\"https://colab.research.google.com/assets/colab-badge.svg\" alt=\"Open In Colab\"/></a>"
      ]
    },
    {
      "cell_type": "markdown",
      "source": [
        "# Pig Contact Detection System Using Convolutional Neural Networks\n",
        "**For Detection, it uses YOLOv5 with ResNet50 and VGG16 as base networks**<br>\n",
        "**For Interaction, it compares between IoU and a calibrated interaction threshold**<br>\n",
        "\n",
        "_Notebook by Joackin Santos_\n",
        "\n",
        "Github Repository for this Project includes this Notebook and the Web Application for Pig Contact Detection. Link below:\n",
        "https://github.com/joackinsantos/Pig-Contact-Detection-Web-App\n",
        "\n",
        "\n",
        "### Definition of Terms\n",
        "- Detection : of Head and Rear (Tail)\n",
        "- Contact : between Head and Rear (Tail)\n",
        "\n",
        "### Resource\n",
        "https://github.com/ultralytics/yolov5<br>\n",
        "https://roboflow.com/model/yolov5"
      ],
      "metadata": {
        "id": "mQJlK9bsp8LN"
      }
    },
    {
      "cell_type": "markdown",
      "source": [
        "## Data Preprocessing, Annotations and Augmentations\n",
        "Data Preprocessing was not necessary as the dataset was provided and preprocessed from: \n",
        "https://doi.org/10.1016/j.biosystemseng.2022.10.002<br>\n",
        "\n",
        "_Dataset Information_\n",
        "- 2781 total pig pen images (1556 AFBI + 1225 AUF)\n",
        "\n",
        "**ROBOFLOW**\n",
        "https://app.roboflow.com/pigdataset/pig-parts/6<br>\n",
        "Annotations were included in the dataset in the COCO format. The images were uploaded in Roboflow to apply annotations and convert to YOLOv5 PyTorch annotations. Additionally, the specified data augmentation techniques were applied to the training set pre-export:\n",
        "\n",
        "|Augmentation|Specification|\n",
        "|-----|-----|\n",
        "|Flip|Horizontal|\n",
        "|Rotate|90°|\n",
        "|Rotate|-35°, +35°|\n",
        "|Crop(Scaling)|0% min, 50% max|\n",
        "|Brightness|-20%, +20%| \n",
        "\n",
        "Dataset is exported after from Roboflow and uploaded to Google Drive. The dataset is split to (train,validation, and test) 70%:15%:15%.\n",
        "\n",
        "**DATASETS**\n",
        "_small datasets are fast training and testing of models_\n",
        "- Augmented\n",
        "  - small-pig-dataset\n",
        "  - mid-pig-dataset\n",
        "  - big-pig-dataset (set from previous work)\n",
        "- Non-augmented\n",
        "  - o-small-pig-dataset\n",
        "  - o-mid-pig-dataset\n",
        "\n",
        "Datasets are uploaded here:\n",
        "https://drive.google.com/drive/folders/1iQQNqep8N0Z3czo-ViN1knIV7AIuIDQh?usp=share_link\n",
        "\n"
      ],
      "metadata": {
        "id": "8y9NbbqWl11c"
      }
    },
    {
      "cell_type": "markdown",
      "source": [
        "**Dataset Setup**"
      ],
      "metadata": {
        "id": "FdBJvpPH3iaq"
      }
    },
    {
      "cell_type": "code",
      "source": [
        "from google.colab import drive\n",
        "drive.mount('/content/drive')\n",
        "\n",
        "\n",
        "# data path for annotated datasets using coco\n",
        "aug_big_ds_path = '/content/drive/MyDrive/Special-Problem-2023/pig-datasets/augmented/big-pig-dataset'\n",
        "\n",
        "# data paths for annotated datasets from roboflow using PyTorch\n",
        "aug_small_ds_path = '/content/drive/MyDrive/Special-Problem-2023/pig-datasets/augmented/small-pig-dataset'\n",
        "naug_small_ds_path = '/content/drive/MyDrive/Special-Problem-2023/pig-datasets/non-augmented/o-small-pig-dataset'\n",
        "aug_mid_ds_path = '/content/drive/MyDrive/Special-Problem-2023/pig-datasets/augmented/mid-pig-dataset'\n",
        "naug_mid_ds_path = '/content/drive/MyDrive/Special-Problem-2023/pig-datasets/non-augmented/o-mid-pig-dataset'"
      ],
      "metadata": {
        "colab": {
          "base_uri": "https://localhost:8080/"
        },
        "id": "VM-9xeD9fqKW",
        "outputId": "623890b1-31da-49ca-e395-48b2ce54c4be"
      },
      "execution_count": 2,
      "outputs": [
        {
          "output_type": "stream",
          "name": "stdout",
          "text": [
            "Drive already mounted at /content/drive; to attempt to forcibly remount, call drive.mount(\"/content/drive\", force_remount=True).\n"
          ]
        }
      ]
    },
    {
      "cell_type": "markdown",
      "source": [
        "**Model Setup**"
      ],
      "metadata": {
        "id": "il0xcLUH3wAP"
      }
    },
    {
      "cell_type": "markdown",
      "source": [
        "**Modeling YOLOv5**"
      ],
      "metadata": {
        "id": "QGEH2KaR5ZNU"
      }
    }
  ]
}