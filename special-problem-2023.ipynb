{
 "cells": [
  {
   "cell_type": "markdown",
   "id": "390c824b",
   "metadata": {
    "papermill": {
     "duration": 0.002682,
     "end_time": "2023-05-08T09:23:43.941125",
     "exception": false,
     "start_time": "2023-05-08T09:23:43.938443",
     "status": "completed"
    },
    "tags": []
   },
   "source": [
    "# Pig Contact Detection System Using Convolutional Neural Networks\n",
    "**For Detection, it uses YOLOv5 with ResNet50 and VGG16 as base networks**<br>\n",
    "**For Interaction, it compares between IoU and a calibrated interaction threshold**<br>\n",
    "\n",
    "_Notebook by Joackin Santos_"
   ]
  },
  {
   "cell_type": "markdown",
   "id": "21b2d0d5",
   "metadata": {
    "papermill": {
     "duration": 0.001637,
     "end_time": "2023-05-08T09:23:43.944912",
     "exception": false,
     "start_time": "2023-05-08T09:23:43.943275",
     "status": "completed"
    },
    "tags": []
   },
   "source": [
    "## Setup"
   ]
  },
  {
   "cell_type": "code",
   "execution_count": 1,
   "id": "a29a635f",
   "metadata": {
    "execution": {
     "iopub.execute_input": "2023-05-08T09:23:43.951977Z",
     "iopub.status.busy": "2023-05-08T09:23:43.951476Z",
     "iopub.status.idle": "2023-05-08T09:23:43.967251Z",
     "shell.execute_reply": "2023-05-08T09:23:43.966112Z"
    },
    "papermill": {
     "duration": 0.023216,
     "end_time": "2023-05-08T09:23:43.969863",
     "exception": false,
     "start_time": "2023-05-08T09:23:43.946647",
     "status": "completed"
    },
    "tags": []
   },
   "outputs": [
    {
     "data": {
      "text/plain": [
       "'memory GB:0.22'"
      ]
     },
     "execution_count": 1,
     "metadata": {},
     "output_type": "execute_result"
    }
   ],
   "source": [
    "# # Checks CPU Usage\n",
    "import os, psutil \n",
    "import numpy as np\n",
    "\n",
    "def cpu_stats():\n",
    "    pid = os.getpid()\n",
    "    py = psutil.Process(pid)\n",
    "    memory_use = py.memory_info()[0] / 2. ** 30\n",
    "    return 'memory GB:' + str(np.round(memory_use, 2))\n",
    "\n",
    "cpu_stats()"
   ]
  },
  {
   "cell_type": "markdown",
   "id": "4ef59b37",
   "metadata": {
    "papermill": {
     "duration": 0.001707,
     "end_time": "2023-05-08T09:23:43.973771",
     "exception": false,
     "start_time": "2023-05-08T09:23:43.972064",
     "status": "completed"
    },
    "tags": []
   },
   "source": [
    "## Modelling"
   ]
  }
 ],
 "metadata": {
  "kernelspec": {
   "display_name": "Python 3",
   "language": "python",
   "name": "python3"
  },
  "language_info": {
   "codemirror_mode": {
    "name": "ipython",
    "version": 3
   },
   "file_extension": ".py",
   "mimetype": "text/x-python",
   "name": "python",
   "nbconvert_exporter": "python",
   "pygments_lexer": "ipython3",
   "version": "3.10.10"
  },
  "papermill": {
   "default_parameters": {},
   "duration": 12.530003,
   "end_time": "2023-05-08T09:23:44.899839",
   "environment_variables": {},
   "exception": null,
   "input_path": "__notebook__.ipynb",
   "output_path": "__notebook__.ipynb",
   "parameters": {},
   "start_time": "2023-05-08T09:23:32.369836",
   "version": "2.4.0"
  }
 },
 "nbformat": 4,
 "nbformat_minor": 5
}
