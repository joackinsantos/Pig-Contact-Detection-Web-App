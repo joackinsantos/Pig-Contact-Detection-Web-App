{
  "nbformat": 4,
  "nbformat_minor": 0,
  "metadata": {
    "colab": {
      "provenance": [],
      "machine_shape": "hm",
      "gpuType": "T4"
    },
    "kernelspec": {
      "name": "python3",
      "display_name": "Python 3"
    },
    "language_info": {
      "name": "python"
    },
    "gpuClass": "standard"
  },
  "cells": [
    {
      "cell_type": "markdown",
      "source": [
        "# Pig Contact Detection System Using Convolutional Neural Networks\n",
        "**For Detection, it uses YOLOv5 with CSPDarknet as the backbone**<br>\n",
        "**For Interaction, it compares between IoU and a calibrated interaction threshold**<br>\n",
        "\n",
        "_Notebook by Joackin Santos_\n",
        "\n",
        "**Main Notebook:**\n",
        "https://colab.research.google.com/drive/1orWlSQr0xjVmVI-2SvIuBQiu3wvIgBS3?usp=sharing\n",
        "\n",
        "This is the accompanying notebook for the Pig Contact Detection System. This notebook uses the weights (*.pt) from the trained models to output the coordinates of the bounding boxes from detect.py of YOLOv5. The output is used to get the IoU (Intersection over Union) of the heads and rears in an image. This will be used to compute for interaction, based on a calibrated IoU threshold.\n",
        "\n",
        "This will use the AFBI and AUF datasets to get predictions and truth values (annotated) to evaluate the interaction method. \n",
        "\n",
        "Upon evaluation of the best threshold, the method will be extracted for single image use, to be integrated to the website application. "
      ],
      "metadata": {
        "id": "QpM6hQa7SVpg"
      }
    },
    {
      "cell_type": "markdown",
      "source": [
        "## Setup"
      ],
      "metadata": {
        "id": "LWUMRkvuHFLD"
      }
    },
    {
      "cell_type": "code",
      "source": [
        "# for folder deletions\n",
        "import shutil\n",
        "shutil.rmtree('/content/datasets')"
      ],
      "metadata": {
        "id": "HopycQPVYwDW"
      },
      "execution_count": null,
      "outputs": []
    },
    {
      "cell_type": "markdown",
      "source": [
        "**Cloning Repositories**"
      ],
      "metadata": {
        "id": "V4BLiP4_HHwn"
      }
    },
    {
      "cell_type": "code",
      "source": [
        "# clone repository containing yolov5 and datasets\n",
        "# rename pig-datasets repo to datasets for yolov5\n",
        "%cd /content\n",
        "!git clone -b interaction-method https://github.com/joackinsantos/YOLOv5-Modification\n",
        "!git clone https://github.com/joackinsantos/pig-datasets datasets"
      ],
      "metadata": {
        "colab": {
          "base_uri": "https://localhost:8080/"
        },
        "id": "aJNBV_QcUG7e",
        "outputId": "eec89da3-1051-4a0c-ffe6-0ae494a25c16"
      },
      "execution_count": 1,
      "outputs": [
        {
          "output_type": "stream",
          "name": "stdout",
          "text": [
            "/content\n",
            "Cloning into 'YOLOv5-Modification'...\n",
            "remote: Enumerating objects: 9872, done.\u001b[K\n",
            "remote: Counting objects: 100% (64/64), done.\u001b[K\n",
            "remote: Compressing objects: 100% (43/43), done.\u001b[K\n",
            "remote: Total 9872 (delta 33), reused 46 (delta 19), pack-reused 9808\u001b[K\n",
            "Receiving objects: 100% (9872/9872), 41.00 MiB | 30.74 MiB/s, done.\n",
            "Resolving deltas: 100% (117/117), done.\n",
            "Cloning into 'datasets'...\n",
            "remote: Enumerating objects: 27727, done.\u001b[K\n",
            "remote: Counting objects: 100% (767/767), done.\u001b[K\n",
            "remote: Compressing objects: 100% (752/752), done.\u001b[K\n",
            "remote: Total 27727 (delta 15), reused 767 (delta 15), pack-reused 26960\u001b[K\n",
            "Receiving objects: 100% (27727/27727), 884.93 MiB | 36.04 MiB/s, done.\n",
            "Resolving deltas: 100% (32/32), done.\n",
            "Updating files: 100% (29633/29633), done.\n"
          ]
        }
      ]
    },
    {
      "cell_type": "markdown",
      "source": [
        "**Data Paths**"
      ],
      "metadata": {
        "id": "Y0KgwVMUHArU"
      }
    },
    {
      "cell_type": "code",
      "source": [
        "# resource paths\n",
        "AFBI_path = '/content/datasets/interaction-set/AFBI'\n",
        "AUF_path = '/content/datasets/interaction-set/AUF'\n",
        "Combined_path = '/content/datasets/interaction-set/Combined'\n",
        "Combined_csv_path = '/content/datasets/interaction-set/Combined.csv'\n",
        "img_AFBI_path = '/content/datasets/interaction-set/AFBI/AFBI001.jpg'\n",
        "img_AUF_path = '/content/datasets/interaction-set/AUF/AUPF190.jpg'\n",
        "weight_path = '/content/YOLOv5-Modification/test-weights/'"
      ],
      "metadata": {
        "id": "NR_ruqEOcHq2"
      },
      "execution_count": 8,
      "outputs": []
    },
    {
      "cell_type": "code",
      "source": [
        "%ls"
      ],
      "metadata": {
        "colab": {
          "base_uri": "https://localhost:8080/"
        },
        "id": "qMj27DrvdmAL",
        "outputId": "f256ba49-b63f-4321-e2dc-8346658f4b59"
      },
      "execution_count": null,
      "outputs": [
        {
          "output_type": "stream",
          "name": "stdout",
          "text": [
            "benchmarks.py    detect.py   \u001b[0m\u001b[01;34m__pycache__\u001b[0m/      \u001b[01;34msegment\u001b[0m/        \u001b[01;34mutils\u001b[0m/\n",
            "CITATION.cff     export.py   README.md         setup.cfg       val.py\n",
            "\u001b[01;34mclassify\u001b[0m/        hubconf.py  README.zh-CN.md   \u001b[01;34mtest-weights\u001b[0m/\n",
            "CONTRIBUTING.md  LICENSE     requirements.txt  train.py\n",
            "\u001b[01;34mdata\u001b[0m/            \u001b[01;34mmodels\u001b[0m/     \u001b[01;34mruns\u001b[0m/             tutorial.ipynb\n"
          ]
        }
      ]
    },
    {
      "cell_type": "markdown",
      "source": [
        "**Detection**\n",
        "*detect.py was modified to extract bounding box properties such as:*\n",
        "- image names\n",
        "- confidence scores\n",
        "- classfication and class index\n",
        "- minX, minY, maxX, maxY <br>\n",
        "\n",
        "This is exported as the \"bounding-boxes.csv\" file"
      ],
      "metadata": {
        "id": "CXKmndGOIBuN"
      }
    },
    {
      "cell_type": "markdown",
      "source": [
        "**This uses the detect.py from YOLOv5 ultralytics repository**"
      ],
      "metadata": {
        "id": "S4--V0NskbjH"
      }
    },
    {
      "cell_type": "code",
      "source": [
        "%cd /content/YOLOv5-Modification\n",
        "!python detect.py --img 600 --weights {weight_path}/test.pt --source {Combined_path}"
      ],
      "metadata": {
        "id": "kTkPb7Y5cMHp"
      },
      "execution_count": null,
      "outputs": []
    },
    {
      "cell_type": "markdown",
      "source": [
        "**This is the detect implementation in the website (img size can be adjusted)**"
      ],
      "metadata": {
        "id": "29qriJXckmBM"
      }
    },
    {
      "cell_type": "code",
      "source": [
        "path_hubconfig = '/content/YOLOv5-Modification'\n",
        "path_weightfile = '/content/YOLOv5-Modification/best-weights/test.pt'"
      ],
      "metadata": {
        "id": "xjwz4FwSkuFw"
      },
      "execution_count": 9,
      "outputs": []
    },
    {
      "cell_type": "code",
      "source": [
        "import torch\n",
        "import os\n",
        "\n",
        "img_AFBI_path = '/content/datasets/interaction-set/AFBI/AFBI001.jpg'\n",
        "img_AUF_path = '/content/datasets/interaction-set/AUF/AUPF190.jpg'\n",
        "\n",
        "model = torch.hub.load(path_hubconfig, 'custom',\n",
        "                     path=path_weightfile, source='local',)\n",
        "\n",
        "jpg_files = []\n",
        "\n",
        "for filename in os.listdir(Combined_path):\n",
        "    if filename.endswith(\".jpg\"):\n",
        "        file_path = os.path.join(Combined_path, filename)\n",
        "        jpg_files.append(file_path)\n",
        "# print(jpg_files)\n",
        "# print(len(jpg_files))\n",
        "\n",
        "results_torch = model(img_AUF_path, size=600)\n",
        "results_torch.print()"
      ],
      "metadata": {
        "colab": {
          "base_uri": "https://localhost:8080/"
        },
        "id": "cGlqnjG2lPcm",
        "outputId": "b0b53f0e-3d1b-496d-a320-e7cb432b6ec7"
      },
      "execution_count": 15,
      "outputs": [
        {
          "output_type": "stream",
          "name": "stderr",
          "text": [
            "YOLOv5 🚀 539e7e9 Python-3.10.11 torch-2.0.0+cu118 CPU\n",
            "\n"
          ]
        },
        {
          "output_type": "stream",
          "name": "stdout",
          "text": [
            "\u001b[31m\u001b[1mrequirements:\u001b[0m /content/requirements.txt not found, check failed.\n"
          ]
        },
        {
          "output_type": "stream",
          "name": "stderr",
          "text": [
            "Fusing layers... \n",
            "custom_YOLOv5m summary: 212 layers, 20856975 parameters, 0 gradients\n",
            "Adding AutoShape... \n",
            "image 1/1: 447x709 12 Heads, 16 Rears\n",
            "Speed: 9.2ms pre-process, 307.5ms inference, 1.4ms NMS per image at shape (1, 3, 384, 608)\n"
          ]
        }
      ]
    },
    {
      "cell_type": "code",
      "source": [
        "# sample df of bounding-box csv\n",
        "%cd /content/YOLOv5-Modification\n",
        "import pandas as pd\n",
        "\n",
        "df = pd.read_csv('test.csv')\n",
        "df"
      ],
      "metadata": {
        "colab": {
          "base_uri": "https://localhost:8080/",
          "height": 568
        },
        "id": "8FU4bLCArA1R",
        "outputId": "b8f68e22-92df-403f-889c-089a8aa1b106"
      },
      "execution_count": null,
      "outputs": [
        {
          "output_type": "stream",
          "name": "stdout",
          "text": [
            "/content/YOLOv5-Modification\n"
          ]
        },
        {
          "output_type": "execute_result",
          "data": {
            "text/plain": [
              "     Image_Name  Confidence Score Object_Name  Class_Index  minX  maxX  minY  \\\n",
              "0   AFBI001.jpg          0.315416        Head            0   252   296   350   \n",
              "1   AFBI001.jpg          0.508910        Head            0   248   297   343   \n",
              "2   AFBI001.jpg          0.527385        Rear            1   286   330   349   \n",
              "3   AFBI001.jpg          0.529184        Head            0   309   351   217   \n",
              "4   AFBI001.jpg          0.633693        Rear            1   281   328   319   \n",
              "5   AFBI001.jpg          0.665945        Head            0   245   292   378   \n",
              "6   AFBI001.jpg          0.675250        Head            0   530   572   308   \n",
              "7   AFBI002.jpg          0.679245        Rear            1    91   136   305   \n",
              "8   AFBI002.jpg          0.692774        Rear            1   120   157   335   \n",
              "9   AFBI002.jpg          0.733357        Rear            1   650   696   282   \n",
              "10  AFBI002.jpg          0.741534        Rear            1   358   401   358   \n",
              "11  AFBI002.jpg          0.748507        Head            0   226   268   249   \n",
              "12  AFBI002.jpg          0.758693        Head            0   107   146   183   \n",
              "13  AFBI002.jpg          0.761583        Rear            1   288   332   162   \n",
              "14  AFBI002.jpg          0.769910        Head            0    99   136   224   \n",
              "15  AFBI002.jpg          0.774928        Rear            1   194   236   166   \n",
              "\n",
              "    maxY  \n",
              "0    408  \n",
              "1    380  \n",
              "2    387  \n",
              "3    266  \n",
              "4    349  \n",
              "5    408  \n",
              "6    349  \n",
              "7    333  \n",
              "8    370  \n",
              "9    324  \n",
              "10   403  \n",
              "11   287  \n",
              "12   215  \n",
              "13   189  \n",
              "14   256  \n",
              "15   204  "
            ],
            "text/html": [
              "\n",
              "  <div id=\"df-a36191ed-bb0e-4a0f-9c02-c3281e84a82d\">\n",
              "    <div class=\"colab-df-container\">\n",
              "      <div>\n",
              "<style scoped>\n",
              "    .dataframe tbody tr th:only-of-type {\n",
              "        vertical-align: middle;\n",
              "    }\n",
              "\n",
              "    .dataframe tbody tr th {\n",
              "        vertical-align: top;\n",
              "    }\n",
              "\n",
              "    .dataframe thead th {\n",
              "        text-align: right;\n",
              "    }\n",
              "</style>\n",
              "<table border=\"1\" class=\"dataframe\">\n",
              "  <thead>\n",
              "    <tr style=\"text-align: right;\">\n",
              "      <th></th>\n",
              "      <th>Image_Name</th>\n",
              "      <th>Confidence Score</th>\n",
              "      <th>Object_Name</th>\n",
              "      <th>Class_Index</th>\n",
              "      <th>minX</th>\n",
              "      <th>maxX</th>\n",
              "      <th>minY</th>\n",
              "      <th>maxY</th>\n",
              "    </tr>\n",
              "  </thead>\n",
              "  <tbody>\n",
              "    <tr>\n",
              "      <th>0</th>\n",
              "      <td>AFBI001.jpg</td>\n",
              "      <td>0.315416</td>\n",
              "      <td>Head</td>\n",
              "      <td>0</td>\n",
              "      <td>252</td>\n",
              "      <td>296</td>\n",
              "      <td>350</td>\n",
              "      <td>408</td>\n",
              "    </tr>\n",
              "    <tr>\n",
              "      <th>1</th>\n",
              "      <td>AFBI001.jpg</td>\n",
              "      <td>0.508910</td>\n",
              "      <td>Head</td>\n",
              "      <td>0</td>\n",
              "      <td>248</td>\n",
              "      <td>297</td>\n",
              "      <td>343</td>\n",
              "      <td>380</td>\n",
              "    </tr>\n",
              "    <tr>\n",
              "      <th>2</th>\n",
              "      <td>AFBI001.jpg</td>\n",
              "      <td>0.527385</td>\n",
              "      <td>Rear</td>\n",
              "      <td>1</td>\n",
              "      <td>286</td>\n",
              "      <td>330</td>\n",
              "      <td>349</td>\n",
              "      <td>387</td>\n",
              "    </tr>\n",
              "    <tr>\n",
              "      <th>3</th>\n",
              "      <td>AFBI001.jpg</td>\n",
              "      <td>0.529184</td>\n",
              "      <td>Head</td>\n",
              "      <td>0</td>\n",
              "      <td>309</td>\n",
              "      <td>351</td>\n",
              "      <td>217</td>\n",
              "      <td>266</td>\n",
              "    </tr>\n",
              "    <tr>\n",
              "      <th>4</th>\n",
              "      <td>AFBI001.jpg</td>\n",
              "      <td>0.633693</td>\n",
              "      <td>Rear</td>\n",
              "      <td>1</td>\n",
              "      <td>281</td>\n",
              "      <td>328</td>\n",
              "      <td>319</td>\n",
              "      <td>349</td>\n",
              "    </tr>\n",
              "    <tr>\n",
              "      <th>5</th>\n",
              "      <td>AFBI001.jpg</td>\n",
              "      <td>0.665945</td>\n",
              "      <td>Head</td>\n",
              "      <td>0</td>\n",
              "      <td>245</td>\n",
              "      <td>292</td>\n",
              "      <td>378</td>\n",
              "      <td>408</td>\n",
              "    </tr>\n",
              "    <tr>\n",
              "      <th>6</th>\n",
              "      <td>AFBI001.jpg</td>\n",
              "      <td>0.675250</td>\n",
              "      <td>Head</td>\n",
              "      <td>0</td>\n",
              "      <td>530</td>\n",
              "      <td>572</td>\n",
              "      <td>308</td>\n",
              "      <td>349</td>\n",
              "    </tr>\n",
              "    <tr>\n",
              "      <th>7</th>\n",
              "      <td>AFBI002.jpg</td>\n",
              "      <td>0.679245</td>\n",
              "      <td>Rear</td>\n",
              "      <td>1</td>\n",
              "      <td>91</td>\n",
              "      <td>136</td>\n",
              "      <td>305</td>\n",
              "      <td>333</td>\n",
              "    </tr>\n",
              "    <tr>\n",
              "      <th>8</th>\n",
              "      <td>AFBI002.jpg</td>\n",
              "      <td>0.692774</td>\n",
              "      <td>Rear</td>\n",
              "      <td>1</td>\n",
              "      <td>120</td>\n",
              "      <td>157</td>\n",
              "      <td>335</td>\n",
              "      <td>370</td>\n",
              "    </tr>\n",
              "    <tr>\n",
              "      <th>9</th>\n",
              "      <td>AFBI002.jpg</td>\n",
              "      <td>0.733357</td>\n",
              "      <td>Rear</td>\n",
              "      <td>1</td>\n",
              "      <td>650</td>\n",
              "      <td>696</td>\n",
              "      <td>282</td>\n",
              "      <td>324</td>\n",
              "    </tr>\n",
              "    <tr>\n",
              "      <th>10</th>\n",
              "      <td>AFBI002.jpg</td>\n",
              "      <td>0.741534</td>\n",
              "      <td>Rear</td>\n",
              "      <td>1</td>\n",
              "      <td>358</td>\n",
              "      <td>401</td>\n",
              "      <td>358</td>\n",
              "      <td>403</td>\n",
              "    </tr>\n",
              "    <tr>\n",
              "      <th>11</th>\n",
              "      <td>AFBI002.jpg</td>\n",
              "      <td>0.748507</td>\n",
              "      <td>Head</td>\n",
              "      <td>0</td>\n",
              "      <td>226</td>\n",
              "      <td>268</td>\n",
              "      <td>249</td>\n",
              "      <td>287</td>\n",
              "    </tr>\n",
              "    <tr>\n",
              "      <th>12</th>\n",
              "      <td>AFBI002.jpg</td>\n",
              "      <td>0.758693</td>\n",
              "      <td>Head</td>\n",
              "      <td>0</td>\n",
              "      <td>107</td>\n",
              "      <td>146</td>\n",
              "      <td>183</td>\n",
              "      <td>215</td>\n",
              "    </tr>\n",
              "    <tr>\n",
              "      <th>13</th>\n",
              "      <td>AFBI002.jpg</td>\n",
              "      <td>0.761583</td>\n",
              "      <td>Rear</td>\n",
              "      <td>1</td>\n",
              "      <td>288</td>\n",
              "      <td>332</td>\n",
              "      <td>162</td>\n",
              "      <td>189</td>\n",
              "    </tr>\n",
              "    <tr>\n",
              "      <th>14</th>\n",
              "      <td>AFBI002.jpg</td>\n",
              "      <td>0.769910</td>\n",
              "      <td>Head</td>\n",
              "      <td>0</td>\n",
              "      <td>99</td>\n",
              "      <td>136</td>\n",
              "      <td>224</td>\n",
              "      <td>256</td>\n",
              "    </tr>\n",
              "    <tr>\n",
              "      <th>15</th>\n",
              "      <td>AFBI002.jpg</td>\n",
              "      <td>0.774928</td>\n",
              "      <td>Rear</td>\n",
              "      <td>1</td>\n",
              "      <td>194</td>\n",
              "      <td>236</td>\n",
              "      <td>166</td>\n",
              "      <td>204</td>\n",
              "    </tr>\n",
              "  </tbody>\n",
              "</table>\n",
              "</div>\n",
              "      <button class=\"colab-df-convert\" onclick=\"convertToInteractive('df-a36191ed-bb0e-4a0f-9c02-c3281e84a82d')\"\n",
              "              title=\"Convert this dataframe to an interactive table.\"\n",
              "              style=\"display:none;\">\n",
              "        \n",
              "  <svg xmlns=\"http://www.w3.org/2000/svg\" height=\"24px\"viewBox=\"0 0 24 24\"\n",
              "       width=\"24px\">\n",
              "    <path d=\"M0 0h24v24H0V0z\" fill=\"none\"/>\n",
              "    <path d=\"M18.56 5.44l.94 2.06.94-2.06 2.06-.94-2.06-.94-.94-2.06-.94 2.06-2.06.94zm-11 1L8.5 8.5l.94-2.06 2.06-.94-2.06-.94L8.5 2.5l-.94 2.06-2.06.94zm10 10l.94 2.06.94-2.06 2.06-.94-2.06-.94-.94-2.06-.94 2.06-2.06.94z\"/><path d=\"M17.41 7.96l-1.37-1.37c-.4-.4-.92-.59-1.43-.59-.52 0-1.04.2-1.43.59L10.3 9.45l-7.72 7.72c-.78.78-.78 2.05 0 2.83L4 21.41c.39.39.9.59 1.41.59.51 0 1.02-.2 1.41-.59l7.78-7.78 2.81-2.81c.8-.78.8-2.07 0-2.86zM5.41 20L4 18.59l7.72-7.72 1.47 1.35L5.41 20z\"/>\n",
              "  </svg>\n",
              "      </button>\n",
              "      \n",
              "  <style>\n",
              "    .colab-df-container {\n",
              "      display:flex;\n",
              "      flex-wrap:wrap;\n",
              "      gap: 12px;\n",
              "    }\n",
              "\n",
              "    .colab-df-convert {\n",
              "      background-color: #E8F0FE;\n",
              "      border: none;\n",
              "      border-radius: 50%;\n",
              "      cursor: pointer;\n",
              "      display: none;\n",
              "      fill: #1967D2;\n",
              "      height: 32px;\n",
              "      padding: 0 0 0 0;\n",
              "      width: 32px;\n",
              "    }\n",
              "\n",
              "    .colab-df-convert:hover {\n",
              "      background-color: #E2EBFA;\n",
              "      box-shadow: 0px 1px 2px rgba(60, 64, 67, 0.3), 0px 1px 3px 1px rgba(60, 64, 67, 0.15);\n",
              "      fill: #174EA6;\n",
              "    }\n",
              "\n",
              "    [theme=dark] .colab-df-convert {\n",
              "      background-color: #3B4455;\n",
              "      fill: #D2E3FC;\n",
              "    }\n",
              "\n",
              "    [theme=dark] .colab-df-convert:hover {\n",
              "      background-color: #434B5C;\n",
              "      box-shadow: 0px 1px 3px 1px rgba(0, 0, 0, 0.15);\n",
              "      filter: drop-shadow(0px 1px 2px rgba(0, 0, 0, 0.3));\n",
              "      fill: #FFFFFF;\n",
              "    }\n",
              "  </style>\n",
              "\n",
              "      <script>\n",
              "        const buttonEl =\n",
              "          document.querySelector('#df-a36191ed-bb0e-4a0f-9c02-c3281e84a82d button.colab-df-convert');\n",
              "        buttonEl.style.display =\n",
              "          google.colab.kernel.accessAllowed ? 'block' : 'none';\n",
              "\n",
              "        async function convertToInteractive(key) {\n",
              "          const element = document.querySelector('#df-a36191ed-bb0e-4a0f-9c02-c3281e84a82d');\n",
              "          const dataTable =\n",
              "            await google.colab.kernel.invokeFunction('convertToInteractive',\n",
              "                                                     [key], {});\n",
              "          if (!dataTable) return;\n",
              "\n",
              "          const docLinkHtml = 'Like what you see? Visit the ' +\n",
              "            '<a target=\"_blank\" href=https://colab.research.google.com/notebooks/data_table.ipynb>data table notebook</a>'\n",
              "            + ' to learn more about interactive tables.';\n",
              "          element.innerHTML = '';\n",
              "          dataTable['output_type'] = 'display_data';\n",
              "          await google.colab.output.renderOutput(dataTable, element);\n",
              "          const docLink = document.createElement('div');\n",
              "          docLink.innerHTML = docLinkHtml;\n",
              "          element.appendChild(docLink);\n",
              "        }\n",
              "      </script>\n",
              "    </div>\n",
              "  </div>\n",
              "  "
            ]
          },
          "metadata": {},
          "execution_count": 56
        }
      ]
    },
    {
      "cell_type": "markdown",
      "source": [
        "**This is the Interaction Method (detect.py)**"
      ],
      "metadata": {
        "id": "2Yeh5Xf6G53r"
      }
    },
    {
      "cell_type": "code",
      "source": [
        "%cd /content/YOLOv5-Modification\n",
        "import pandas as pd\n",
        "import os\n",
        "\n",
        "df = pd.read_csv('bounding-boxes.csv')\n",
        "\n",
        "# variables\n",
        "iou_threshold = 0.05\n",
        "\n",
        "# df results\n",
        "results_df = pd.DataFrame(columns=['Image_Name', 'Classification', 'Interaction_Count'])\n",
        "\n",
        "def compute_interactions(data, threshold, results):\n",
        "    # unique image names\n",
        "    image_names = data['Image_Name'].unique()\n",
        "\n",
        "    # loop for each unique name\n",
        "    for name in image_names:\n",
        "      # interaction variables\n",
        "      interaction_flag = False\n",
        "      interaction_count = 0\n",
        "\n",
        "      # subset dataframe with this image name\n",
        "      name_df = data[data['Image_Name'] == name]\n",
        "\n",
        "      # subset dataframes of heads and rears\n",
        "      head_df = name_df[name_df['Object_Name'] == 'Head'].reset_index(drop=True)\n",
        "      rear_df = name_df[name_df['Object_Name'] == 'Rear'].reset_index(drop=True)\n",
        "\n",
        "      # loop over heads and rears in the image\n",
        "      for i, head_row in head_df.iterrows():\n",
        "        for j, rear_row in rear_df.iterrows():\n",
        "            # bounding box indexing\n",
        "            # df[4] = minX, df[5] = maxX, df[6] = minY, df[7] = maxY\n",
        "\n",
        "            head_minX = head_df.iloc[i, 4]\n",
        "            head_maxX = head_df.iloc[i, 5]\n",
        "            head_minY = head_df.iloc[i, 6]\n",
        "            head_maxY = head_df.iloc[i, 7]\n",
        "\n",
        "            rear_minX = rear_df.iloc[j, 4]\n",
        "            rear_maxX = rear_df.iloc[j, 5]\n",
        "            rear_minY = rear_df.iloc[j, 6]\n",
        "            rear_maxY = rear_df.iloc[j, 7]\n",
        "\n",
        "            # this is for the headBox and rearBox\n",
        "            curr_iou = compute_iou(head_minX, head_maxX, head_minY, head_maxY,\n",
        "                        rear_minX, rear_maxX, rear_minY, rear_maxY)\n",
        "            \n",
        "            # print(\"computed the IoU:\", curr_iou)\n",
        "\n",
        "            if (curr_iou >= threshold):\n",
        "              interaction_flag = True\n",
        "              interaction_count += 1\n",
        "\n",
        "            # # tester\n",
        "            # print(i, j)\n",
        "            # print(head_minX, head_minY, head_maxX, head_maxY)\n",
        "            # print(rear_minX, rear_minY, rear_maxX, rear_maxY)\n",
        "\n",
        "      temp_list = [name, \n",
        "                   1 if interaction_flag else 0, \n",
        "                   interaction_count]\n",
        "      results.loc[len(results)] = temp_list\n",
        "    return results\n",
        "\n",
        "def compute_iou(head_minX, head_maxX, head_minY, head_maxY, rear_minX, rear_maxX, rear_minY, rear_maxY):\n",
        "    # determine (x,y) coordinates of the intersection rectangle\n",
        "    x_left = max(head_minX, rear_minX)\n",
        "    y_top = max(head_minY, rear_minY)\n",
        "    x_right = min(head_maxX, rear_maxX)\n",
        "    y_bottom = min(head_maxY, rear_maxY)\n",
        "\n",
        "    # compute the area of intersection rectangle\n",
        "    intersection_area = max(0, x_right - x_left + 1) * max(0, y_bottom - y_top + 1)\n",
        "\n",
        "    # compute area of both prediction and ground-truth\n",
        "    # rectangles\n",
        "    headArea = (head_maxX - head_minX + 1) * (head_maxY - head_minY + 1)\n",
        "    rearArea = (rear_maxX - rear_minX + 1) * (rear_maxY - rear_minY + 1)\n",
        "    union_area = float(headArea + rearArea - intersection_area)\n",
        "\n",
        "    # compute IoU\n",
        "    iou = intersection_area / union_area\n",
        "    return iou\n",
        "\n",
        "res = compute_interactions(df, iou_threshold, results_df).copy()\n",
        "if os.path.exists('results.csv'):\n",
        "    os.remove('results.csv')\n",
        "res.to_csv('results.csv', index=False)\n",
        "\n",
        "# print(res)\n"
      ],
      "metadata": {
        "colab": {
          "base_uri": "https://localhost:8080/"
        },
        "id": "0j4RYKTar_xQ",
        "outputId": "28a626c6-1a82-4a0d-e5fe-bda4fb6f03f6"
      },
      "execution_count": null,
      "outputs": [
        {
          "output_type": "stream",
          "name": "stdout",
          "text": [
            "/content/YOLOv5-Modification\n"
          ]
        }
      ]
    },
    {
      "cell_type": "markdown",
      "source": [
        "**This is Interaction Method (PyTorch)**"
      ],
      "metadata": {
        "id": "UhpveBPut7G_"
      }
    },
    {
      "cell_type": "code",
      "source": [
        "%cd /content/YOLOv5-Modification\n",
        "import pandas as pd\n",
        "import os\n",
        "\n",
        "# df format [xmin ymin xmax ymax confidence class name], xyxy index is the name\n",
        "bb = results_torch.pandas().xyxy\n",
        "\n",
        "# variables\n",
        "iou_threshold = 0.05\n",
        "\n",
        "# df results\n",
        "results_df = pd.DataFrame(columns=['Classification', 'Interaction_Count'])\n",
        "\n",
        "def compute_interactions(data, threshold, results):\n",
        "    # loop for each unique name/ image\n",
        "    for image in bb:\n",
        "      # interaction variables\n",
        "      interaction_flag = False\n",
        "      interaction_count = 0\n",
        "\n",
        "      # subset dataframe with this image name\n",
        "      name_df = image\n",
        "\n",
        "      # subset dataframes of heads and rears\n",
        "      head_df = name_df[name_df['name'] == 'Head'].reset_index(drop=True)\n",
        "      rear_df = name_df[name_df['name'] == 'Rear'].reset_index(drop=True)\n",
        "\n",
        "      # loop over heads and rears in the image\n",
        "      for i, head_row in head_df.iterrows():\n",
        "        for j, rear_row in rear_df.iterrows():\n",
        "            # bounding box indexing\n",
        "            # df[0] = minX, df[1] = minY, df[2] = maxX, df[3] = maxY\n",
        "\n",
        "            head_minX = head_df.iloc[i, 0]\n",
        "            head_minY = head_df.iloc[i, 1]\n",
        "            head_maxX = head_df.iloc[i, 2]\n",
        "            head_maxY = head_df.iloc[i, 3]\n",
        "\n",
        "            rear_minX = rear_df.iloc[j, 0]\n",
        "            rear_minY = rear_df.iloc[j, 1]\n",
        "            rear_maxX = rear_df.iloc[j, 2]\n",
        "            rear_maxY = rear_df.iloc[j, 3]\n",
        "\n",
        "            # this is for the headBox and rearBox\n",
        "            curr_iou = compute_iou(head_minX, head_maxX, head_minY, head_maxY,\n",
        "                        rear_minX, rear_maxX, rear_minY, rear_maxY)\n",
        "            \n",
        "            # print(\"computed the IoU:\", curr_iou)\n",
        "\n",
        "            if (curr_iou >= threshold):\n",
        "              interaction_flag = True\n",
        "              interaction_count += 1\n",
        "\n",
        "            # # tester\n",
        "            # print(i, j)\n",
        "            # print(head_minX, head_minY, head_maxX, head_maxY)\n",
        "            # print(rear_minX, rear_minY, rear_maxX, rear_maxY)\n",
        "\n",
        "      temp_list = [1 if interaction_flag else 0, \n",
        "                   interaction_count]\n",
        "      results.loc[len(results)] = temp_list\n",
        "    return results\n",
        "\n",
        "def compute_iou(head_minX, head_maxX, head_minY, head_maxY, rear_minX, rear_maxX, rear_minY, rear_maxY):\n",
        "    # determine (x,y) coordinates of the intersection rectangle\n",
        "    x_left = max(head_minX, rear_minX)\n",
        "    y_top = max(head_minY, rear_minY)\n",
        "    x_right = min(head_maxX, rear_maxX)\n",
        "    y_bottom = min(head_maxY, rear_maxY)\n",
        "\n",
        "    # compute the area of intersection rectangle\n",
        "    intersection_area = max(0, x_right - x_left + 1) * max(0, y_bottom - y_top + 1)\n",
        "\n",
        "    # compute area of both prediction and ground-truth\n",
        "    # rectangles\n",
        "    headArea = (head_maxX - head_minX + 1) * (head_maxY - head_minY + 1)\n",
        "    rearArea = (rear_maxX - rear_minX + 1) * (rear_maxY - rear_minY + 1)\n",
        "    union_area = float(headArea + rearArea - intersection_area)\n",
        "\n",
        "    # compute IoU\n",
        "    iou = intersection_area / union_area\n",
        "    return iou\n",
        "\n",
        "res = compute_interactions(bb, iou_threshold, results_df).copy()\n",
        "if os.path.exists('results.csv'):\n",
        "    os.remove('results.csv')\n",
        "res.to_csv('results.csv', index=False)\n",
        "\n",
        "print(res)"
      ],
      "metadata": {
        "id": "Z53X_X8RuLgA",
        "colab": {
          "base_uri": "https://localhost:8080/"
        },
        "outputId": "0a60d7d8-0030-4b95-99fe-7ec18fa93a08"
      },
      "execution_count": 16,
      "outputs": [
        {
          "output_type": "stream",
          "name": "stdout",
          "text": [
            "/content/YOLOv5-Modification\n",
            "   Classification  Interaction_Count\n",
            "0               1                  1\n"
          ]
        }
      ]
    },
    {
      "cell_type": "markdown",
      "source": [
        "## Evaluations"
      ],
      "metadata": {
        "id": "XB2icZn-Rp_q"
      }
    },
    {
      "cell_type": "markdown",
      "source": [
        "**Getting and Processing Necessary Data**"
      ],
      "metadata": {
        "id": "hAgjL4VzRuhv"
      }
    },
    {
      "cell_type": "code",
      "source": [
        "# if os.path.exists(Combined_csv_path):\n",
        "#     os.remove(Combined_csv_path)\n",
        "pd.set_option('display.max_rows', None)\n",
        "pd.set_option('display.max_columns', None)"
      ],
      "metadata": {
        "id": "Gqe-GO-hVB8y"
      },
      "execution_count": null,
      "outputs": []
    },
    {
      "cell_type": "code",
      "source": [
        "# True Values\n",
        "truth_df = pd.read_csv(Combined_csv_path)\n",
        "# Changing column names, removing extra \\', binarizing the classification\n",
        "binarize = lambda x: 0 if x == 0 else 1\n",
        "\n",
        "truth_df['Image_Name'] = truth_df['Image_Name'].str.replace('\\'', '')\n",
        "truth_df['Classification'] = truth_df['Classification'].apply(binarize)\n",
        "\n",
        "# truth_df"
      ],
      "metadata": {
        "id": "spwuyZH2RoHy"
      },
      "execution_count": null,
      "outputs": []
    },
    {
      "cell_type": "code",
      "source": [
        "# Getting truth_df counts\n",
        "truth_df['is_AFBI'] = truth_df['Image_Name'].str.contains('AFBI').astype(int)\n",
        "truth_df['is_AUF'] = truth_df['Image_Name'].str.contains('AUPF').astype(int)\n",
        "AFBI_grouped = truth_df.groupby('is_AFBI')\n",
        "# AUF_grouped = truth_df.groupby('is_AUF')\n",
        "\n",
        "# This creates separated dfs for the two data sets\n",
        "for name, group in AFBI_grouped:\n",
        "    df_name = 'AFBI_group_df' if name else 'AUF_group_df'\n",
        "    globals()[df_name] = group.copy()\n",
        "\n",
        "truth = truth_df['Classification'].value_counts()\n",
        "afbi = AFBI_group_df['Classification'].value_counts()\n",
        "auf = AUF_group_df['Classification'].value_counts()\n",
        "print(\"truth:\\n\", truth,'\\n',\"afbi:\\n\",afbi,'\\n',\" auf:\\n\",auf,'\\n')"
      ],
      "metadata": {
        "colab": {
          "base_uri": "https://localhost:8080/"
        },
        "id": "I7NNiqg5XBi2",
        "outputId": "ad60688b-4845-4293-956e-f1081d8fc557"
      },
      "execution_count": null,
      "outputs": [
        {
          "output_type": "stream",
          "name": "stdout",
          "text": [
            "truth:\n",
            " 0    456\n",
            "1    282\n",
            "Name: Classification, dtype: int64 \n",
            " afbi:\n",
            " 0    322\n",
            "1    111\n",
            "Name: Classification, dtype: int64 \n",
            "  auf:\n",
            " 1    171\n",
            "0    134\n",
            "Name: Classification, dtype: int64 \n",
            "\n"
          ]
        }
      ]
    },
    {
      "cell_type": "code",
      "source": [
        "# Predicted Values\n",
        "pred_df = pd.read_csv('results.csv')\n",
        "# pred_df"
      ],
      "metadata": {
        "id": "LdYstw9RVAgf"
      },
      "execution_count": null,
      "outputs": []
    },
    {
      "cell_type": "code",
      "source": [
        "# Getting pred_df counts\n",
        "pred_df['is_AFBI'] = pred_df['Image_Name'].str.contains('AFBI').astype(int)\n",
        "pred_df['is_AUF'] = pred_df['Image_Name'].str.contains('AUPF').astype(int)\n",
        "AFBI_grouped = pred_df.groupby('is_AFBI')\n",
        "\n",
        "# AUF_grouped = truth_df.groupby('is_AUF')\n",
        "\n",
        "# This creates separated dfs for the two data sets\n",
        "for name, group in AFBI_grouped:\n",
        "    df_name = 'AFBI_group_df' if name else 'AUF_group_df'\n",
        "    globals()[df_name] = group.copy()\n",
        "\n",
        "pred = pred_df['Classification'].value_counts()\n",
        "afbi = AFBI_group_df['Classification'].value_counts()\n",
        "auf = AUF_group_df['Classification'].value_counts()\n",
        "print(\"pred:\\n\", pred,'\\n',\"afbi:\\n\",afbi,'\\n',\" auf:\\n\",auf,'\\n')"
      ],
      "metadata": {
        "colab": {
          "base_uri": "https://localhost:8080/"
        },
        "id": "MCWXxyVyZ5Ud",
        "outputId": "9c2356ad-24b2-49a1-e812-6c94a5e9f94c"
      },
      "execution_count": null,
      "outputs": [
        {
          "output_type": "stream",
          "name": "stdout",
          "text": [
            "pred:\n",
            " 1    399\n",
            "0    339\n",
            "Name: Classification, dtype: int64 \n",
            " afbi:\n",
            " 0    225\n",
            "1    208\n",
            "Name: Classification, dtype: int64 \n",
            "  auf:\n",
            " 1    191\n",
            "0    114\n",
            "Name: Classification, dtype: int64 \n",
            "\n"
          ]
        }
      ]
    },
    {
      "cell_type": "markdown",
      "source": [
        "**Evalution Proper**"
      ],
      "metadata": {
        "id": "82koXr0taei1"
      }
    },
    {
      "cell_type": "code",
      "source": [
        "print(truth_df.shape[0],\n",
        "      pred_df.shape[0])"
      ],
      "metadata": {
        "colab": {
          "base_uri": "https://localhost:8080/"
        },
        "id": "qSFR47QNa7HG",
        "outputId": "18d5cc79-c0ea-4ecc-d4cd-f06111f300a2"
      },
      "execution_count": null,
      "outputs": [
        {
          "output_type": "stream",
          "name": "stdout",
          "text": [
            "738 738\n"
          ]
        }
      ]
    },
    {
      "cell_type": "code",
      "source": [
        "y_true = truth_df[\"Classification\"]\n",
        "y_pred = pred_df[\"Classification\"]\n",
        "\n",
        "from sklearn.metrics import accuracy_score, precision_score, recall_score, f1_score, confusion_matrix\n",
        "\n",
        "accuracy = accuracy_score(y_true, y_pred)\n",
        "precision = precision_score(y_true, y_pred)\n",
        "recall = recall_score(y_true, y_pred)\n",
        "f1 = f1_score(y_true, y_pred)\n",
        "confusion_matrix = confusion_matrix(y_true, y_pred)\n",
        "print(\"Accuracy:\", accuracy)\n",
        "print(\"Precision:\", precision)\n",
        "print(\"Recall:\", recall)\n",
        "print(\"F1 Score:\", f1)\n",
        "print(\"Confusion Matrix:\\n\", confusion_matrix)"
      ],
      "metadata": {
        "colab": {
          "base_uri": "https://localhost:8080/"
        },
        "id": "AiGfFE3Uac92",
        "outputId": "ee8b40d4-ef3a-4510-8748-e47e5433c90f"
      },
      "execution_count": null,
      "outputs": [
        {
          "output_type": "stream",
          "name": "stdout",
          "text": [
            "Accuracy: 0.7249322493224932\n",
            "Precision: 0.5989974937343359\n",
            "Recall: 0.8475177304964538\n",
            "F1 Score: 0.7019089574155654\n",
            "Confusion Matrix:\n",
            " [[296 160]\n",
            " [ 43 239]]\n"
          ]
        }
      ]
    },
    {
      "cell_type": "code",
      "source": [
        "import seaborn as sns\n",
        "import matplotlib.pyplot as plt\n",
        "from sklearn.metrics import confusion_matrix\n",
        "\n",
        "# assume y_true and y_pred are the true and predicted labels\n",
        "cm = confusion_matrix(y_true, y_pred)\n",
        "\n",
        "# create a heatmap using seaborn\n",
        "sns.heatmap(cm, annot=True, cmap=\"Blues\", fmt=\"d\")\n",
        "\n",
        "# add axis labels and title\n",
        "plt.xlabel(\"Predicted Label\")\n",
        "plt.ylabel(\"True Label\")\n",
        "plt.title(\"Confusion Matrix\")\n",
        "\n",
        "# show the plot\n",
        "plt.show()"
      ],
      "metadata": {
        "colab": {
          "base_uri": "https://localhost:8080/",
          "height": 472
        },
        "id": "r0LTLkIFdJ4Z",
        "outputId": "066e521d-6962-4092-8866-a278e78c5b61"
      },
      "execution_count": null,
      "outputs": [
        {
          "output_type": "display_data",
          "data": {
            "text/plain": [
              "<Figure size 640x480 with 2 Axes>"
            ],
            "image/png": "[encoded data removed]"
          },
          "metadata": {}
        }
      ]
    }
  ]
}